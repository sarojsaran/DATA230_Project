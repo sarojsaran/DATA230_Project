{
 "cells": [
  {
   "cell_type": "code",
   "execution_count": 10,
   "metadata": {},
   "outputs": [],
   "source": [
    "import pandas as pd\n",
    "import numpy as np"
   ]
  },
  {
   "cell_type": "code",
   "execution_count": 11,
   "metadata": {},
   "outputs": [],
   "source": [
    "df = pd.read_csv('athlete_events_add_hostCountry1.csv')"
   ]
  },
  {
   "cell_type": "code",
   "execution_count": 12,
   "metadata": {},
   "outputs": [
    {
     "name": "stdout",
     "output_type": "stream",
     "text": [
      "ID\n",
      "Name\n",
      "Sex\n",
      "Age\n",
      "Height\n",
      "Weight\n",
      "Team\n",
      "NOC\n",
      "Games\n",
      "Year\n",
      "Season\n",
      "City\n",
      "Sport\n",
      "Event\n",
      "Medal\n"
     ]
    }
   ],
   "source": [
    "for col in df.columns:\n",
    "    print(col)"
   ]
  },
  {
   "cell_type": "code",
   "execution_count": 13,
   "metadata": {},
   "outputs": [],
   "source": [
    "conditions = [\n",
    "    (df['City'] == 'Sydney') | (df['City'] == 'Melbourne'),\n",
    "    (df['City'] == 'Innsbruck'),\n",
    "    (df['City'] == 'Antwerpen'),\n",
    "    (df['City'] == 'Sarajevo'),\n",
    "    (df['City'] == 'Rio de Janeiro'),\n",
    "    (df['City'] == 'Montreal') | (df['City'] == 'Vancouver') |(df['City'] == 'Calgary'),\n",
    "    (df['City'] == 'Beijing'),\n",
    "    (df['City'] == 'Helsinki'),\n",
    "    (df['City'] == 'Paris') | (df['City'] == 'Chamonix') |(df['City'] == 'Grenoble'),\n",
    "    (df['City'] == 'Munich') | (df['City'] == 'Berlin') | (df['City'] == 'Garmisch-Partenkirchen'),\n",
    "    (df['City'] == 'Athina'),\n",
    "    (df['City'] == 'Roma') | (df['City'] == 'Torino') | (df['City'] == \"Cortina d'Ampezzo\"),\n",
    "    (df['City'] == 'Tokyo') | (df['City'] == 'Sapporo') | (df['City'] == 'Nagano'),\n",
    "    (df['City'] == 'Mexico City'),\n",
    "    (df['City'] == 'Amsterdam'),\n",
    "    (df['City'] == 'Lillehammer') | (df['City'] == 'Oslo'),\n",
    "    (df['City'] == 'Moskva') | (df['City'] == 'Sochi'),\n",
    "    (df['City'] == 'Seoul'),\n",
    "    (df['City'] == 'Barcelona'),\n",
    "    (df['City'] == 'Stockholm'),\n",
    "    (df['City'] == 'Sankt Moritz'),\n",
    "    (df['City'] == 'London'),\n",
    "    (df['City'] == 'Atlanta') | (df['City'] == 'Los Angeles') | (df['City'] == 'Salt Lake City') | (df['City'] == 'Albertville') | (df['City'] == 'Lake Placid') | (df['City'] == 'St. Louis') | (df['City'] == 'Squaw Valley')\n",
    "    ]\n",
    "\n",
    "# create a list of the values we want to assign for each condition\n",
    "values = ['Australia', 'Austria', 'Belgium','Bosnia','Brazil','Canada','China','Finland','France','Germany','Greece','Italy','Japan','Mexico','Netherlands','Norway','Russia','South Korea','Spain','Sweden','Switzerland','United Kingdom','United States']\n",
    "\n",
    "# create a new column and use np.select to assign values to it using our lists as arguments\n",
    "df['Host_Country'] = np.select(conditions, values)"
   ]
  },
  {
   "cell_type": "code",
   "execution_count": 14,
   "metadata": {},
   "outputs": [
    {
     "data": {
      "text/html": [
       "<div>\n",
       "<style scoped>\n",
       "    .dataframe tbody tr th:only-of-type {\n",
       "        vertical-align: middle;\n",
       "    }\n",
       "\n",
       "    .dataframe tbody tr th {\n",
       "        vertical-align: top;\n",
       "    }\n",
       "\n",
       "    .dataframe thead th {\n",
       "        text-align: right;\n",
       "    }\n",
       "</style>\n",
       "<table border=\"1\" class=\"dataframe\">\n",
       "  <thead>\n",
       "    <tr style=\"text-align: right;\">\n",
       "      <th></th>\n",
       "      <th>ID</th>\n",
       "      <th>Name</th>\n",
       "      <th>Sex</th>\n",
       "      <th>Age</th>\n",
       "      <th>Height</th>\n",
       "      <th>Weight</th>\n",
       "      <th>Team</th>\n",
       "      <th>NOC</th>\n",
       "      <th>Games</th>\n",
       "      <th>Year</th>\n",
       "      <th>Season</th>\n",
       "      <th>City</th>\n",
       "      <th>Sport</th>\n",
       "      <th>Event</th>\n",
       "      <th>Medal</th>\n",
       "      <th>Host_Country</th>\n",
       "    </tr>\n",
       "  </thead>\n",
       "  <tbody>\n",
       "    <tr>\n",
       "      <th>0</th>\n",
       "      <td>1</td>\n",
       "      <td>A Dijiang</td>\n",
       "      <td>M</td>\n",
       "      <td>24.0</td>\n",
       "      <td>180.0</td>\n",
       "      <td>80.0</td>\n",
       "      <td>China</td>\n",
       "      <td>CHN</td>\n",
       "      <td>1992 Summer</td>\n",
       "      <td>1992</td>\n",
       "      <td>Summer</td>\n",
       "      <td>Barcelona</td>\n",
       "      <td>Basketball</td>\n",
       "      <td>Basketball Men's Basketball</td>\n",
       "      <td>NaN</td>\n",
       "      <td>Spain</td>\n",
       "    </tr>\n",
       "    <tr>\n",
       "      <th>1</th>\n",
       "      <td>2</td>\n",
       "      <td>A Lamusi</td>\n",
       "      <td>M</td>\n",
       "      <td>23.0</td>\n",
       "      <td>170.0</td>\n",
       "      <td>60.0</td>\n",
       "      <td>China</td>\n",
       "      <td>CHN</td>\n",
       "      <td>2012 Summer</td>\n",
       "      <td>2012</td>\n",
       "      <td>Summer</td>\n",
       "      <td>London</td>\n",
       "      <td>Judo</td>\n",
       "      <td>Judo Men's Extra-Lightweight</td>\n",
       "      <td>NaN</td>\n",
       "      <td>United Kingdom</td>\n",
       "    </tr>\n",
       "    <tr>\n",
       "      <th>2</th>\n",
       "      <td>3</td>\n",
       "      <td>Gunnar Nielsen Aaby</td>\n",
       "      <td>M</td>\n",
       "      <td>24.0</td>\n",
       "      <td>NaN</td>\n",
       "      <td>NaN</td>\n",
       "      <td>Denmark</td>\n",
       "      <td>DEN</td>\n",
       "      <td>1920 Summer</td>\n",
       "      <td>1920</td>\n",
       "      <td>Summer</td>\n",
       "      <td>Antwerpen</td>\n",
       "      <td>Football</td>\n",
       "      <td>Football Men's Football</td>\n",
       "      <td>NaN</td>\n",
       "      <td>Belgium</td>\n",
       "    </tr>\n",
       "    <tr>\n",
       "      <th>3</th>\n",
       "      <td>4</td>\n",
       "      <td>Edgar Lindenau Aabye</td>\n",
       "      <td>M</td>\n",
       "      <td>34.0</td>\n",
       "      <td>NaN</td>\n",
       "      <td>NaN</td>\n",
       "      <td>Denmark/Sweden</td>\n",
       "      <td>DEN</td>\n",
       "      <td>1900 Summer</td>\n",
       "      <td>1900</td>\n",
       "      <td>Summer</td>\n",
       "      <td>Paris</td>\n",
       "      <td>Tug-Of-War</td>\n",
       "      <td>Tug-Of-War Men's Tug-Of-War</td>\n",
       "      <td>Gold</td>\n",
       "      <td>France</td>\n",
       "    </tr>\n",
       "    <tr>\n",
       "      <th>4</th>\n",
       "      <td>5</td>\n",
       "      <td>Christine Jacoba Aaftink</td>\n",
       "      <td>F</td>\n",
       "      <td>21.0</td>\n",
       "      <td>185.0</td>\n",
       "      <td>82.0</td>\n",
       "      <td>Netherlands</td>\n",
       "      <td>NED</td>\n",
       "      <td>1988 Winter</td>\n",
       "      <td>1988</td>\n",
       "      <td>Winter</td>\n",
       "      <td>Calgary</td>\n",
       "      <td>Speed Skating</td>\n",
       "      <td>Speed Skating Women's 500 metres</td>\n",
       "      <td>NaN</td>\n",
       "      <td>Canada</td>\n",
       "    </tr>\n",
       "  </tbody>\n",
       "</table>\n",
       "</div>"
      ],
      "text/plain": [
       "   ID                      Name Sex   Age  Height  Weight            Team  \\\n",
       "0   1                 A Dijiang   M  24.0   180.0    80.0           China   \n",
       "1   2                  A Lamusi   M  23.0   170.0    60.0           China   \n",
       "2   3       Gunnar Nielsen Aaby   M  24.0     NaN     NaN         Denmark   \n",
       "3   4      Edgar Lindenau Aabye   M  34.0     NaN     NaN  Denmark/Sweden   \n",
       "4   5  Christine Jacoba Aaftink   F  21.0   185.0    82.0     Netherlands   \n",
       "\n",
       "   NOC        Games  Year  Season       City          Sport  \\\n",
       "0  CHN  1992 Summer  1992  Summer  Barcelona     Basketball   \n",
       "1  CHN  2012 Summer  2012  Summer     London           Judo   \n",
       "2  DEN  1920 Summer  1920  Summer  Antwerpen       Football   \n",
       "3  DEN  1900 Summer  1900  Summer      Paris     Tug-Of-War   \n",
       "4  NED  1988 Winter  1988  Winter    Calgary  Speed Skating   \n",
       "\n",
       "                              Event Medal    Host_Country  \n",
       "0       Basketball Men's Basketball   NaN           Spain  \n",
       "1      Judo Men's Extra-Lightweight   NaN  United Kingdom  \n",
       "2           Football Men's Football   NaN         Belgium  \n",
       "3       Tug-Of-War Men's Tug-Of-War  Gold          France  \n",
       "4  Speed Skating Women's 500 metres   NaN          Canada  "
      ]
     },
     "execution_count": 14,
     "metadata": {},
     "output_type": "execute_result"
    }
   ],
   "source": [
    "df.head()"
   ]
  },
  {
   "cell_type": "code",
   "execution_count": 15,
   "metadata": {},
   "outputs": [],
   "source": [
    "df.to_csv(\"athlete_events_add_hostCountry1.csv\", index=False)"
   ]
  },
  {
   "cell_type": "code",
   "execution_count": 16,
   "metadata": {},
   "outputs": [
    {
     "data": {
      "text/plain": [
       "array(['Spain', 'United Kingdom', 'Belgium', 'France', 'Canada',\n",
       "       'United States', 'Norway', 'Finland', 'Australia', 'Sweden',\n",
       "       'Russia', 'Japan', 'Italy', 'China', 'Brazil', 'Greece', 'Austria',\n",
       "       'Bosnia', 'Mexico', 'Germany', 'South Korea', 'Netherlands',\n",
       "       'Switzerland'], dtype=object)"
      ]
     },
     "execution_count": 16,
     "metadata": {},
     "output_type": "execute_result"
    }
   ],
   "source": [
    "df.Host_Country.unique()"
   ]
  },
  {
   "cell_type": "code",
   "execution_count": 17,
   "metadata": {},
   "outputs": [
    {
     "data": {
      "text/plain": [
       "array(['Barcelona', 'London', 'Antwerpen', 'Paris', 'Calgary',\n",
       "       'Albertville', 'Lillehammer', 'Los Angeles', 'Salt Lake City',\n",
       "       'Helsinki', 'Lake Placid', 'Sydney', 'Atlanta', 'Stockholm',\n",
       "       'Sochi', 'Nagano', 'Torino', 'Beijing', 'Rio de Janeiro', 'Athina',\n",
       "       'Squaw Valley', 'Innsbruck', 'Sarajevo', 'Mexico City', 'Munich',\n",
       "       'Seoul', 'Berlin', 'Oslo', \"Cortina d'Ampezzo\", 'Melbourne',\n",
       "       'Roma', 'Amsterdam', 'Montreal', 'Moskva', 'Tokyo', 'Vancouver',\n",
       "       'Grenoble', 'Sapporo', 'Chamonix', 'St. Louis', 'Sankt Moritz',\n",
       "       'Garmisch-Partenkirchen'], dtype=object)"
      ]
     },
     "execution_count": 17,
     "metadata": {},
     "output_type": "execute_result"
    }
   ],
   "source": [
    "df.City.unique()"
   ]
  }
 ],
 "metadata": {
  "kernelspec": {
   "display_name": "Python 3",
   "language": "python",
   "name": "python3"
  },
  "language_info": {
   "codemirror_mode": {
    "name": "ipython",
    "version": 3
   },
   "file_extension": ".py",
   "mimetype": "text/x-python",
   "name": "python",
   "nbconvert_exporter": "python",
   "pygments_lexer": "ipython3",
   "version": "3.8.5"
  }
 },
 "nbformat": 4,
 "nbformat_minor": 4
}
